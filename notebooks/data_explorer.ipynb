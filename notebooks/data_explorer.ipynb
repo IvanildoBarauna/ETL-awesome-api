{
 "cells": [
  {
   "cell_type": "markdown",
   "metadata": {},
   "source": [
    "## 1. Consolidated files in the unique DataFrame and show the total files extracted"
   ]
  },
  {
   "cell_type": "code",
   "execution_count": 53,
   "metadata": {},
   "outputs": [
    {
     "data": {
      "text/plain": [
       "210"
      ]
     },
     "execution_count": 53,
     "metadata": {},
     "output_type": "execute_result"
    }
   ],
   "source": [
    "import os\n",
    "import sys\n",
    "\n",
    "notebook_path = os.path.dirname(os.path.abspath(\"data_explorer.ipynb\"))\n",
    "sys.path.append(os.path.dirname(notebook_path))\n",
    "\n",
    "from etl.utils.common import DefaultOutputFolder as dir\n",
    "import pandas as pd\n",
    "\n",
    "files = os.listdir(dir())\n",
    "dfs = []\n",
    "\n",
    "if not files: print(\"No files found in the output folder.\")\n",
    "\n",
    "for file in files:\n",
    "    if file.endswith(\".parquet\"):\n",
    "        df = pd.read_parquet(dir() + file)\n",
    "        dfs.append(df)\n",
    "    \n",
    "allFiles = pd.concat(dfs, ignore_index=True)\n",
    "\n",
    "# Ordering DataFrame by column name\n",
    "allFiles = allFiles.sort_values(by=['extracted_at'], ascending=False)\n",
    "\n",
    "# count the rows in dataframe\n",
    "allFiles.shape[0]"
   ]
  },
  {
   "cell_type": "markdown",
   "metadata": {},
   "source": [
    "## 1.1 Data set sample, list 5 files"
   ]
  },
  {
   "cell_type": "code",
   "execution_count": 57,
   "metadata": {},
   "outputs": [
    {
     "data": {
      "text/html": [
       "<div>\n",
       "<style scoped>\n",
       "    .dataframe tbody tr th:only-of-type {\n",
       "        vertical-align: middle;\n",
       "    }\n",
       "\n",
       "    .dataframe tbody tr th {\n",
       "        vertical-align: top;\n",
       "    }\n",
       "\n",
       "    .dataframe thead th {\n",
       "        text-align: right;\n",
       "    }\n",
       "</style>\n",
       "<table border=\"1\" class=\"dataframe\">\n",
       "  <thead>\n",
       "    <tr style=\"text-align: right;\">\n",
       "      <th></th>\n",
       "      <th>code</th>\n",
       "      <th>codein</th>\n",
       "      <th>name</th>\n",
       "      <th>high</th>\n",
       "      <th>low</th>\n",
       "      <th>varBid</th>\n",
       "      <th>pctChange</th>\n",
       "      <th>bid</th>\n",
       "      <th>ask</th>\n",
       "      <th>timestamp</th>\n",
       "      <th>create_date</th>\n",
       "      <th>symbol</th>\n",
       "      <th>extracted_at</th>\n",
       "    </tr>\n",
       "  </thead>\n",
       "  <tbody>\n",
       "    <tr>\n",
       "      <th>105</th>\n",
       "      <td>BRL</td>\n",
       "      <td>MAD</td>\n",
       "      <td>Real Brasileiro/Dirham Marroquino</td>\n",
       "      <td>1.9569</td>\n",
       "      <td>1.9213</td>\n",
       "      <td>0.0204</td>\n",
       "      <td>1.05</td>\n",
       "      <td>1.9489</td>\n",
       "      <td>1.9502</td>\n",
       "      <td>1713560398</td>\n",
       "      <td>2024-04-19 17:59:58</td>\n",
       "      <td>BRL-MAD</td>\n",
       "      <td>2024-04-22 01:02:43</td>\n",
       "    </tr>\n",
       "    <tr>\n",
       "      <th>68</th>\n",
       "      <td>BRL</td>\n",
       "      <td>JPY</td>\n",
       "      <td>Real Brasileiro/Iene Japonês</td>\n",
       "      <td>29.585</td>\n",
       "      <td>29.549</td>\n",
       "      <td>0.0103</td>\n",
       "      <td>0.03</td>\n",
       "      <td>29.565</td>\n",
       "      <td>29.581</td>\n",
       "      <td>1713747731</td>\n",
       "      <td>2024-04-21 22:02:11</td>\n",
       "      <td>BRL-JPY</td>\n",
       "      <td>2024-04-22 01:02:43</td>\n",
       "    </tr>\n",
       "    <tr>\n",
       "      <th>138</th>\n",
       "      <td>BRL</td>\n",
       "      <td>SAR</td>\n",
       "      <td>Real Brasileiro/Riyal Saudita</td>\n",
       "      <td>0.7204</td>\n",
       "      <td>0.7202</td>\n",
       "      <td>-0.0001</td>\n",
       "      <td>-0.01</td>\n",
       "      <td>0.7201</td>\n",
       "      <td>0.7203</td>\n",
       "      <td>1713739283</td>\n",
       "      <td>2024-04-21 19:41:23</td>\n",
       "      <td>BRL-SAR</td>\n",
       "      <td>2024-04-22 01:02:43</td>\n",
       "    </tr>\n",
       "  </tbody>\n",
       "</table>\n",
       "</div>"
      ],
      "text/plain": [
       "    code codein                               name    high     low   varBid  \\\n",
       "105  BRL    MAD  Real Brasileiro/Dirham Marroquino  1.9569  1.9213   0.0204   \n",
       "68   BRL    JPY       Real Brasileiro/Iene Japonês  29.585  29.549   0.0103   \n",
       "138  BRL    SAR      Real Brasileiro/Riyal Saudita  0.7204  0.7202  -0.0001   \n",
       "\n",
       "    pctChange     bid     ask   timestamp          create_date   symbol  \\\n",
       "105      1.05  1.9489  1.9502  1713560398  2024-04-19 17:59:58  BRL-MAD   \n",
       "68       0.03  29.565  29.581  1713747731  2024-04-21 22:02:11  BRL-JPY   \n",
       "138     -0.01  0.7201  0.7203  1713739283  2024-04-21 19:41:23  BRL-SAR   \n",
       "\n",
       "            extracted_at  \n",
       "105  2024-04-22 01:02:43  \n",
       "68   2024-04-22 01:02:43  \n",
       "138  2024-04-22 01:02:43  "
      ]
     },
     "execution_count": 57,
     "metadata": {},
     "output_type": "execute_result"
    }
   ],
   "source": [
    "allFiles.head(3)"
   ]
  },
  {
   "cell_type": "markdown",
   "metadata": {},
   "source": [
    "## 2. Change DataTypes and Reorder columns"
   ]
  },
  {
   "cell_type": "code",
   "execution_count": 56,
   "metadata": {},
   "outputs": [
    {
     "data": {
      "text/html": [
       "<div>\n",
       "<style scoped>\n",
       "    .dataframe tbody tr th:only-of-type {\n",
       "        vertical-align: middle;\n",
       "    }\n",
       "\n",
       "    .dataframe tbody tr th {\n",
       "        vertical-align: top;\n",
       "    }\n",
       "\n",
       "    .dataframe thead th {\n",
       "        text-align: right;\n",
       "    }\n",
       "</style>\n",
       "<table border=\"1\" class=\"dataframe\">\n",
       "  <thead>\n",
       "    <tr style=\"text-align: right;\">\n",
       "      <th></th>\n",
       "      <th>create_date</th>\n",
       "      <th>extracted_at</th>\n",
       "      <th>code</th>\n",
       "      <th>symbol</th>\n",
       "      <th>name</th>\n",
       "      <th>ask</th>\n",
       "      <th>bid</th>\n",
       "      <th>varBid</th>\n",
       "      <th>pctChange</th>\n",
       "    </tr>\n",
       "  </thead>\n",
       "  <tbody>\n",
       "    <tr>\n",
       "      <th>105</th>\n",
       "      <td>2024-04-19 17:59:58</td>\n",
       "      <td>2024-04-22 01:02:43</td>\n",
       "      <td>BRL</td>\n",
       "      <td>BRL-MAD</td>\n",
       "      <td>Real Brasileiro/Dirham Marroquino</td>\n",
       "      <td>1.9502</td>\n",
       "      <td>1.9489</td>\n",
       "      <td>0.0204</td>\n",
       "      <td>1.05</td>\n",
       "    </tr>\n",
       "    <tr>\n",
       "      <th>68</th>\n",
       "      <td>2024-04-21 22:02:11</td>\n",
       "      <td>2024-04-22 01:02:43</td>\n",
       "      <td>BRL</td>\n",
       "      <td>BRL-JPY</td>\n",
       "      <td>Real Brasileiro/Iene Japonês</td>\n",
       "      <td>29.5810</td>\n",
       "      <td>29.5650</td>\n",
       "      <td>0.0103</td>\n",
       "      <td>0.03</td>\n",
       "    </tr>\n",
       "    <tr>\n",
       "      <th>138</th>\n",
       "      <td>2024-04-21 19:41:23</td>\n",
       "      <td>2024-04-22 01:02:43</td>\n",
       "      <td>BRL</td>\n",
       "      <td>BRL-SAR</td>\n",
       "      <td>Real Brasileiro/Riyal Saudita</td>\n",
       "      <td>0.7203</td>\n",
       "      <td>0.7201</td>\n",
       "      <td>-0.0001</td>\n",
       "      <td>-0.01</td>\n",
       "    </tr>\n",
       "  </tbody>\n",
       "</table>\n",
       "</div>"
      ],
      "text/plain": [
       "             create_date         extracted_at code   symbol  \\\n",
       "105  2024-04-19 17:59:58  2024-04-22 01:02:43  BRL  BRL-MAD   \n",
       "68   2024-04-21 22:02:11  2024-04-22 01:02:43  BRL  BRL-JPY   \n",
       "138  2024-04-21 19:41:23  2024-04-22 01:02:43  BRL  BRL-SAR   \n",
       "\n",
       "                                  name      ask      bid  varBid  pctChange  \n",
       "105  Real Brasileiro/Dirham Marroquino   1.9502   1.9489  0.0204       1.05  \n",
       "68        Real Brasileiro/Iene Japonês  29.5810  29.5650  0.0103       0.03  \n",
       "138      Real Brasileiro/Riyal Saudita   0.7203   0.7201 -0.0001      -0.01  "
      ]
     },
     "execution_count": 56,
     "metadata": {},
     "output_type": "execute_result"
    }
   ],
   "source": [
    "## Reorder columns in dataframe\n",
    "df = allFiles[['create_date', 'extracted_at', 'code', 'symbol', 'name', 'ask', 'bid', 'varBid', 'pctChange' ]]\n",
    "\n",
    "# Change data types\n",
    "df = df.astype({'ask': float, 'bid': float, 'varBid': float, 'pctChange': float})\n",
    "\n",
    "# Filter dataframe by code\n",
    "df = df[df['code'] == 'BRL']\n",
    "\n",
    "# Show the dataframe\n",
    "df.head(3)\n"
   ]
  }
 ],
 "metadata": {
  "kernelspec": {
   "display_name": "awesome-data-ingestion-bT26QLZB-py3.9",
   "language": "python",
   "name": "python3"
  },
  "language_info": {
   "codemirror_mode": {
    "name": "ipython",
    "version": 3
   },
   "file_extension": ".py",
   "mimetype": "text/x-python",
   "name": "python",
   "nbconvert_exporter": "python",
   "pygments_lexer": "ipython3",
   "version": "3.9.6"
  }
 },
 "nbformat": 4,
 "nbformat_minor": 2
}
