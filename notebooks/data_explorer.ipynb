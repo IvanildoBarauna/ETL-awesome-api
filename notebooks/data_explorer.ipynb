{
 "cells": [
  {
   "cell_type": "markdown",
   "metadata": {},
   "source": [
    "## 1. Consolidated files in the unique DataFrame and show the total files extracted"
   ]
  },
  {
   "cell_type": "code",
   "execution_count": 1,
   "metadata": {},
   "outputs": [
    {
     "data": {
      "text/plain": [
       "530"
      ]
     },
     "execution_count": 1,
     "metadata": {},
     "output_type": "execute_result"
    }
   ],
   "source": [
    "import os\n",
    "import sys\n",
    "\n",
    "notebook_path = os.path.dirname(os.path.abspath(\"data_explorer.ipynb\"))\n",
    "sys.path.append(os.path.dirname(notebook_path))\n",
    "\n",
    "from etl.utils.common import DefaultOutputFolder as dir\n",
    "import pandas as pd\n",
    "\n",
    "files = os.listdir(dir())\n",
    "dfs = []\n",
    "\n",
    "if not files: print(\"No files found in the output folder.\")\n",
    "\n",
    "for file in files:\n",
    "    if file.endswith(\".parquet\"):\n",
    "        df = pd.read_parquet(dir() + file)\n",
    "        dfs.append(df)\n",
    "    \n",
    "allFiles = pd.concat(dfs, ignore_index=True)\n",
    "\n",
    "# Ordering DataFrame by column name\n",
    "allFiles = allFiles.sort_values(by=['extracted_at'], ascending=False)\n",
    "\n",
    "# count the rows in dataframe\n",
    "allFiles.shape[0]"
   ]
  },
  {
   "cell_type": "markdown",
   "metadata": {},
   "source": [
    "## 1.1 Data set sample, list 5 files"
   ]
  },
  {
   "cell_type": "code",
   "execution_count": 2,
   "metadata": {},
   "outputs": [
    {
     "data": {
      "text/html": [
       "<div>\n",
       "<style scoped>\n",
       "    .dataframe tbody tr th:only-of-type {\n",
       "        vertical-align: middle;\n",
       "    }\n",
       "\n",
       "    .dataframe tbody tr th {\n",
       "        vertical-align: top;\n",
       "    }\n",
       "\n",
       "    .dataframe thead th {\n",
       "        text-align: right;\n",
       "    }\n",
       "</style>\n",
       "<table border=\"1\" class=\"dataframe\">\n",
       "  <thead>\n",
       "    <tr style=\"text-align: right;\">\n",
       "      <th></th>\n",
       "      <th>code</th>\n",
       "      <th>codein</th>\n",
       "      <th>name</th>\n",
       "      <th>high</th>\n",
       "      <th>low</th>\n",
       "      <th>varBid</th>\n",
       "      <th>pctChange</th>\n",
       "      <th>bid</th>\n",
       "      <th>ask</th>\n",
       "      <th>timestamp</th>\n",
       "      <th>create_date</th>\n",
       "      <th>symbol</th>\n",
       "      <th>extracted_at</th>\n",
       "    </tr>\n",
       "  </thead>\n",
       "  <tbody>\n",
       "    <tr>\n",
       "      <th>31</th>\n",
       "      <td>EUR</td>\n",
       "      <td>SDG</td>\n",
       "      <td>Euro/Libra Sudanesa</td>\n",
       "      <td>624.6036</td>\n",
       "      <td>624.6036</td>\n",
       "      <td>0</td>\n",
       "      <td>0</td>\n",
       "      <td>605.4179</td>\n",
       "      <td>643.7894</td>\n",
       "      <td>1713887707</td>\n",
       "      <td>2024-04-23 12:55:07</td>\n",
       "      <td>EUR-SDG</td>\n",
       "      <td>2024-04-23 15:55:16</td>\n",
       "    </tr>\n",
       "    <tr>\n",
       "      <th>510</th>\n",
       "      <td>EUR</td>\n",
       "      <td>SCR</td>\n",
       "      <td>Euro/Rúpias de Seicheles</td>\n",
       "      <td>15.1334</td>\n",
       "      <td>15.1334</td>\n",
       "      <td>0</td>\n",
       "      <td>0</td>\n",
       "      <td>15.1356</td>\n",
       "      <td>15.1312</td>\n",
       "      <td>1713887705</td>\n",
       "      <td>2024-04-23 12:55:05</td>\n",
       "      <td>EUR-SCR</td>\n",
       "      <td>2024-04-23 15:55:16</td>\n",
       "    </tr>\n",
       "    <tr>\n",
       "      <th>118</th>\n",
       "      <td>EUR</td>\n",
       "      <td>HTG</td>\n",
       "      <td>Euro/Gourde Haitiano</td>\n",
       "      <td>141.23</td>\n",
       "      <td>141.18</td>\n",
       "      <td>-0.05</td>\n",
       "      <td>-0.04</td>\n",
       "      <td>140.18</td>\n",
       "      <td>142.18</td>\n",
       "      <td>1713880874</td>\n",
       "      <td>2024-04-23 11:01:14</td>\n",
       "      <td>EUR-HTG</td>\n",
       "      <td>2024-04-23 14:01:59</td>\n",
       "    </tr>\n",
       "  </tbody>\n",
       "</table>\n",
       "</div>"
      ],
      "text/plain": [
       "    code codein                      name      high       low varBid  \\\n",
       "31   EUR    SDG       Euro/Libra Sudanesa  624.6036  624.6036      0   \n",
       "510  EUR    SCR  Euro/Rúpias de Seicheles   15.1334   15.1334      0   \n",
       "118  EUR    HTG      Euro/Gourde Haitiano    141.23    141.18  -0.05   \n",
       "\n",
       "    pctChange       bid       ask   timestamp          create_date   symbol  \\\n",
       "31          0  605.4179  643.7894  1713887707  2024-04-23 12:55:07  EUR-SDG   \n",
       "510         0   15.1356   15.1312  1713887705  2024-04-23 12:55:05  EUR-SCR   \n",
       "118     -0.04    140.18    142.18  1713880874  2024-04-23 11:01:14  EUR-HTG   \n",
       "\n",
       "            extracted_at  \n",
       "31   2024-04-23 15:55:16  \n",
       "510  2024-04-23 15:55:16  \n",
       "118  2024-04-23 14:01:59  "
      ]
     },
     "execution_count": 2,
     "metadata": {},
     "output_type": "execute_result"
    }
   ],
   "source": [
    "allFiles.head(3)"
   ]
  },
  {
   "cell_type": "markdown",
   "metadata": {},
   "source": [
    "## 2. Change DataTypes and Reorder columns"
   ]
  },
  {
   "cell_type": "code",
   "execution_count": 3,
   "metadata": {},
   "outputs": [
    {
     "data": {
      "text/html": [
       "<div>\n",
       "<style scoped>\n",
       "    .dataframe tbody tr th:only-of-type {\n",
       "        vertical-align: middle;\n",
       "    }\n",
       "\n",
       "    .dataframe tbody tr th {\n",
       "        vertical-align: top;\n",
       "    }\n",
       "\n",
       "    .dataframe thead th {\n",
       "        text-align: right;\n",
       "    }\n",
       "</style>\n",
       "<table border=\"1\" class=\"dataframe\">\n",
       "  <thead>\n",
       "    <tr style=\"text-align: right;\">\n",
       "      <th></th>\n",
       "      <th>code</th>\n",
       "      <th>codein</th>\n",
       "      <th>name</th>\n",
       "      <th>high</th>\n",
       "      <th>low</th>\n",
       "      <th>varBid</th>\n",
       "      <th>pctChange</th>\n",
       "      <th>bid</th>\n",
       "      <th>ask</th>\n",
       "      <th>timestamp</th>\n",
       "      <th>create_date</th>\n",
       "      <th>symbol</th>\n",
       "      <th>extracted_at</th>\n",
       "    </tr>\n",
       "  </thead>\n",
       "  <tbody>\n",
       "    <tr>\n",
       "      <th>31</th>\n",
       "      <td>EUR</td>\n",
       "      <td>SDG</td>\n",
       "      <td>Euro/Libra Sudanesa</td>\n",
       "      <td>624.6036</td>\n",
       "      <td>624.6036</td>\n",
       "      <td>0.00</td>\n",
       "      <td>0.00</td>\n",
       "      <td>605.4179</td>\n",
       "      <td>643.7894</td>\n",
       "      <td>1713887707</td>\n",
       "      <td>2024-04-23 12:55:07</td>\n",
       "      <td>EUR-SDG</td>\n",
       "      <td>2024-04-23 15:55:16</td>\n",
       "    </tr>\n",
       "    <tr>\n",
       "      <th>510</th>\n",
       "      <td>EUR</td>\n",
       "      <td>SCR</td>\n",
       "      <td>Euro/Rúpias de Seicheles</td>\n",
       "      <td>15.1334</td>\n",
       "      <td>15.1334</td>\n",
       "      <td>0.00</td>\n",
       "      <td>0.00</td>\n",
       "      <td>15.1356</td>\n",
       "      <td>15.1312</td>\n",
       "      <td>1713887705</td>\n",
       "      <td>2024-04-23 12:55:05</td>\n",
       "      <td>EUR-SCR</td>\n",
       "      <td>2024-04-23 15:55:16</td>\n",
       "    </tr>\n",
       "    <tr>\n",
       "      <th>118</th>\n",
       "      <td>EUR</td>\n",
       "      <td>HTG</td>\n",
       "      <td>Euro/Gourde Haitiano</td>\n",
       "      <td>141.23</td>\n",
       "      <td>141.18</td>\n",
       "      <td>-0.05</td>\n",
       "      <td>-0.04</td>\n",
       "      <td>140.1800</td>\n",
       "      <td>142.1800</td>\n",
       "      <td>1713880874</td>\n",
       "      <td>2024-04-23 11:01:14</td>\n",
       "      <td>EUR-HTG</td>\n",
       "      <td>2024-04-23 14:01:59</td>\n",
       "    </tr>\n",
       "  </tbody>\n",
       "</table>\n",
       "</div>"
      ],
      "text/plain": [
       "    code codein                      name      high       low  varBid  \\\n",
       "31   EUR    SDG       Euro/Libra Sudanesa  624.6036  624.6036    0.00   \n",
       "510  EUR    SCR  Euro/Rúpias de Seicheles   15.1334   15.1334    0.00   \n",
       "118  EUR    HTG      Euro/Gourde Haitiano    141.23    141.18   -0.05   \n",
       "\n",
       "     pctChange       bid       ask   timestamp          create_date   symbol  \\\n",
       "31        0.00  605.4179  643.7894  1713887707  2024-04-23 12:55:07  EUR-SDG   \n",
       "510       0.00   15.1356   15.1312  1713887705  2024-04-23 12:55:05  EUR-SCR   \n",
       "118      -0.04  140.1800  142.1800  1713880874  2024-04-23 11:01:14  EUR-HTG   \n",
       "\n",
       "            extracted_at  \n",
       "31   2024-04-23 15:55:16  \n",
       "510  2024-04-23 15:55:16  \n",
       "118  2024-04-23 14:01:59  "
      ]
     },
     "execution_count": 3,
     "metadata": {},
     "output_type": "execute_result"
    }
   ],
   "source": [
    "# Change data types\n",
    "df = allFiles.astype({'ask': float, 'bid': float, 'varBid': float, 'pctChange': float})\n",
    "\n",
    "# Show the dataframe\n",
    "df.head(3)\n"
   ]
  },
  {
   "cell_type": "markdown",
   "metadata": {},
   "source": [
    "## 3. Using SQL for Data Exploration\n",
    "    3.1 What is the currency with the highest ask value?"
   ]
  },
  {
   "cell_type": "code",
   "execution_count": 4,
   "metadata": {},
   "outputs": [
    {
     "data": {
      "text/html": [
       "<div>\n",
       "<style scoped>\n",
       "    .dataframe tbody tr th:only-of-type {\n",
       "        vertical-align: middle;\n",
       "    }\n",
       "\n",
       "    .dataframe tbody tr th {\n",
       "        vertical-align: top;\n",
       "    }\n",
       "\n",
       "    .dataframe thead th {\n",
       "        text-align: right;\n",
       "    }\n",
       "</style>\n",
       "<table border=\"1\" class=\"dataframe\">\n",
       "  <thead>\n",
       "    <tr style=\"text-align: right;\">\n",
       "      <th></th>\n",
       "      <th>symbol</th>\n",
       "      <th>name</th>\n",
       "      <th>max_ask</th>\n",
       "    </tr>\n",
       "  </thead>\n",
       "  <tbody>\n",
       "    <tr>\n",
       "      <th>0</th>\n",
       "      <td>BRL-LBP</td>\n",
       "      <td>Real Brasileiro/Libra Libanesa</td>\n",
       "      <td>17293.29</td>\n",
       "    </tr>\n",
       "  </tbody>\n",
       "</table>\n",
       "</div>"
      ],
      "text/plain": [
       "    symbol                            name   max_ask\n",
       "0  BRL-LBP  Real Brasileiro/Libra Libanesa  17293.29"
      ]
     },
     "execution_count": 4,
     "metadata": {},
     "output_type": "execute_result"
    }
   ],
   "source": [
    "from pandasql import sqldf\n",
    "\n",
    "query = \"\"\"\n",
    "    SELECT symbol, name, max(ask) max_ask FROM df \n",
    "    where code = 'BRL' \n",
    "    group by symbol, name\n",
    "    order by 3 desc limit 1\n",
    "\"\"\"\n",
    "\n",
    "newDf = sqldf(query, locals())\n",
    "\n",
    "newDf\n",
    "\n"
   ]
  },
  {
   "cell_type": "code",
   "execution_count": null,
   "metadata": {},
   "outputs": [],
   "source": []
  }
 ],
 "metadata": {
  "kernelspec": {
   "display_name": "awesome-data-ingestion-bT26QLZB-py3.9",
   "language": "python",
   "name": "python3"
  },
  "language_info": {
   "codemirror_mode": {
    "name": "ipython",
    "version": 3
   },
   "file_extension": ".py",
   "mimetype": "text/x-python",
   "name": "python",
   "nbconvert_exporter": "python",
   "pygments_lexer": "ipython3",
   "version": "3.9.6"
  }
 },
 "nbformat": 4,
 "nbformat_minor": 2
}
