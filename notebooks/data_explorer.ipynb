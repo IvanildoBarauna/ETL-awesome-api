{
 "cells": [
  {
   "cell_type": "markdown",
   "metadata": {},
   "source": [
    "## 1. Consolidated files in the unique DataFrame and show the total files extracted"
   ]
  },
  {
   "cell_type": "code",
   "execution_count": 1,
   "metadata": {},
   "outputs": [
    {
     "data": {
      "text/plain": [
       "310"
      ]
     },
     "execution_count": 1,
     "metadata": {},
     "output_type": "execute_result"
    }
   ],
   "source": [
    "import os\n",
    "import sys\n",
    "\n",
    "notebook_path = os.path.dirname(os.path.abspath(\"data_explorer.ipynb\"))\n",
    "sys.path.append(os.path.dirname(notebook_path))\n",
    "\n",
    "from etl.utils.common import DefaultOutputFolder as dir\n",
    "import pandas as pd\n",
    "\n",
    "files = os.listdir(dir())\n",
    "dfs = []\n",
    "\n",
    "if not files: print(\"No files found in the output folder.\")\n",
    "\n",
    "for file in files:\n",
    "    if file.endswith(\".parquet\"):\n",
    "        df = pd.read_parquet(dir() + file)\n",
    "        dfs.append(df)\n",
    "    \n",
    "allFiles = pd.concat(dfs, ignore_index=True)\n",
    "\n",
    "# Ordering DataFrame by column name\n",
    "allFiles = allFiles.sort_values(by=['extracted_at'], ascending=False)\n",
    "\n",
    "# count the rows in dataframe\n",
    "allFiles.shape[0]"
   ]
  },
  {
   "cell_type": "markdown",
   "metadata": {},
   "source": [
    "## 1.1 Data set sample, list 5 files"
   ]
  },
  {
   "cell_type": "code",
   "execution_count": 2,
   "metadata": {},
   "outputs": [
    {
     "data": {
      "text/html": [
       "<div>\n",
       "<style scoped>\n",
       "    .dataframe tbody tr th:only-of-type {\n",
       "        vertical-align: middle;\n",
       "    }\n",
       "\n",
       "    .dataframe tbody tr th {\n",
       "        vertical-align: top;\n",
       "    }\n",
       "\n",
       "    .dataframe thead th {\n",
       "        text-align: right;\n",
       "    }\n",
       "</style>\n",
       "<table border=\"1\" class=\"dataframe\">\n",
       "  <thead>\n",
       "    <tr style=\"text-align: right;\">\n",
       "      <th></th>\n",
       "      <th>code</th>\n",
       "      <th>codein</th>\n",
       "      <th>name</th>\n",
       "      <th>high</th>\n",
       "      <th>low</th>\n",
       "      <th>varBid</th>\n",
       "      <th>pctChange</th>\n",
       "      <th>bid</th>\n",
       "      <th>ask</th>\n",
       "      <th>timestamp</th>\n",
       "      <th>create_date</th>\n",
       "      <th>symbol</th>\n",
       "      <th>extracted_at</th>\n",
       "    </tr>\n",
       "  </thead>\n",
       "  <tbody>\n",
       "    <tr>\n",
       "      <th>63</th>\n",
       "      <td>EUR</td>\n",
       "      <td>SAR</td>\n",
       "      <td>Euro/Riyal Saudita</td>\n",
       "      <td>3.9943</td>\n",
       "      <td>3.9943</td>\n",
       "      <td>0</td>\n",
       "      <td>0</td>\n",
       "      <td>3.9193</td>\n",
       "      <td>4.0693</td>\n",
       "      <td>1713759942</td>\n",
       "      <td>2024-04-22 01:25:42</td>\n",
       "      <td>EUR-SAR</td>\n",
       "      <td>2024-04-22 04:26:36</td>\n",
       "    </tr>\n",
       "    <tr>\n",
       "      <th>94</th>\n",
       "      <td>EUR</td>\n",
       "      <td>XAF</td>\n",
       "      <td>Euro/Franco CFA Central</td>\n",
       "      <td>655.957</td>\n",
       "      <td>655.957</td>\n",
       "      <td>0</td>\n",
       "      <td>0</td>\n",
       "      <td>655.957</td>\n",
       "      <td>655.957</td>\n",
       "      <td>1713759902</td>\n",
       "      <td>2024-04-22 01:25:02</td>\n",
       "      <td>EUR-XAF</td>\n",
       "      <td>2024-04-22 04:26:36</td>\n",
       "    </tr>\n",
       "    <tr>\n",
       "      <th>225</th>\n",
       "      <td>EUR</td>\n",
       "      <td>SYP</td>\n",
       "      <td>Euro/Libra Síria</td>\n",
       "      <td>2728.49</td>\n",
       "      <td>2728.49</td>\n",
       "      <td>0</td>\n",
       "      <td>0</td>\n",
       "      <td>2726.36</td>\n",
       "      <td>2730.63</td>\n",
       "      <td>1713474004</td>\n",
       "      <td>2024-04-18 18:00:04</td>\n",
       "      <td>EUR-SYP</td>\n",
       "      <td>2024-04-22 04:26:36</td>\n",
       "    </tr>\n",
       "  </tbody>\n",
       "</table>\n",
       "</div>"
      ],
      "text/plain": [
       "    code codein                     name     high      low varBid pctChange  \\\n",
       "63   EUR    SAR       Euro/Riyal Saudita   3.9943   3.9943      0         0   \n",
       "94   EUR    XAF  Euro/Franco CFA Central  655.957  655.957      0         0   \n",
       "225  EUR    SYP         Euro/Libra Síria  2728.49  2728.49      0         0   \n",
       "\n",
       "         bid      ask   timestamp          create_date   symbol  \\\n",
       "63    3.9193   4.0693  1713759942  2024-04-22 01:25:42  EUR-SAR   \n",
       "94   655.957  655.957  1713759902  2024-04-22 01:25:02  EUR-XAF   \n",
       "225  2726.36  2730.63  1713474004  2024-04-18 18:00:04  EUR-SYP   \n",
       "\n",
       "            extracted_at  \n",
       "63   2024-04-22 04:26:36  \n",
       "94   2024-04-22 04:26:36  \n",
       "225  2024-04-22 04:26:36  "
      ]
     },
     "execution_count": 2,
     "metadata": {},
     "output_type": "execute_result"
    }
   ],
   "source": [
    "allFiles.head(3)"
   ]
  },
  {
   "cell_type": "markdown",
   "metadata": {},
   "source": [
    "## 2. Change DataTypes and Reorder columns"
   ]
  },
  {
   "cell_type": "code",
   "execution_count": 3,
   "metadata": {},
   "outputs": [
    {
     "data": {
      "text/html": [
       "<div>\n",
       "<style scoped>\n",
       "    .dataframe tbody tr th:only-of-type {\n",
       "        vertical-align: middle;\n",
       "    }\n",
       "\n",
       "    .dataframe tbody tr th {\n",
       "        vertical-align: top;\n",
       "    }\n",
       "\n",
       "    .dataframe thead th {\n",
       "        text-align: right;\n",
       "    }\n",
       "</style>\n",
       "<table border=\"1\" class=\"dataframe\">\n",
       "  <thead>\n",
       "    <tr style=\"text-align: right;\">\n",
       "      <th></th>\n",
       "      <th>code</th>\n",
       "      <th>codein</th>\n",
       "      <th>name</th>\n",
       "      <th>high</th>\n",
       "      <th>low</th>\n",
       "      <th>varBid</th>\n",
       "      <th>pctChange</th>\n",
       "      <th>bid</th>\n",
       "      <th>ask</th>\n",
       "      <th>timestamp</th>\n",
       "      <th>create_date</th>\n",
       "      <th>symbol</th>\n",
       "      <th>extracted_at</th>\n",
       "    </tr>\n",
       "  </thead>\n",
       "  <tbody>\n",
       "    <tr>\n",
       "      <th>63</th>\n",
       "      <td>EUR</td>\n",
       "      <td>SAR</td>\n",
       "      <td>Euro/Riyal Saudita</td>\n",
       "      <td>3.9943</td>\n",
       "      <td>3.9943</td>\n",
       "      <td>0.0</td>\n",
       "      <td>0.0</td>\n",
       "      <td>3.9193</td>\n",
       "      <td>4.0693</td>\n",
       "      <td>1713759942</td>\n",
       "      <td>2024-04-22 01:25:42</td>\n",
       "      <td>EUR-SAR</td>\n",
       "      <td>2024-04-22 04:26:36</td>\n",
       "    </tr>\n",
       "    <tr>\n",
       "      <th>94</th>\n",
       "      <td>EUR</td>\n",
       "      <td>XAF</td>\n",
       "      <td>Euro/Franco CFA Central</td>\n",
       "      <td>655.957</td>\n",
       "      <td>655.957</td>\n",
       "      <td>0.0</td>\n",
       "      <td>0.0</td>\n",
       "      <td>655.9570</td>\n",
       "      <td>655.9570</td>\n",
       "      <td>1713759902</td>\n",
       "      <td>2024-04-22 01:25:02</td>\n",
       "      <td>EUR-XAF</td>\n",
       "      <td>2024-04-22 04:26:36</td>\n",
       "    </tr>\n",
       "    <tr>\n",
       "      <th>225</th>\n",
       "      <td>EUR</td>\n",
       "      <td>SYP</td>\n",
       "      <td>Euro/Libra Síria</td>\n",
       "      <td>2728.49</td>\n",
       "      <td>2728.49</td>\n",
       "      <td>0.0</td>\n",
       "      <td>0.0</td>\n",
       "      <td>2726.3600</td>\n",
       "      <td>2730.6300</td>\n",
       "      <td>1713474004</td>\n",
       "      <td>2024-04-18 18:00:04</td>\n",
       "      <td>EUR-SYP</td>\n",
       "      <td>2024-04-22 04:26:36</td>\n",
       "    </tr>\n",
       "  </tbody>\n",
       "</table>\n",
       "</div>"
      ],
      "text/plain": [
       "    code codein                     name     high      low  varBid  pctChange  \\\n",
       "63   EUR    SAR       Euro/Riyal Saudita   3.9943   3.9943     0.0        0.0   \n",
       "94   EUR    XAF  Euro/Franco CFA Central  655.957  655.957     0.0        0.0   \n",
       "225  EUR    SYP         Euro/Libra Síria  2728.49  2728.49     0.0        0.0   \n",
       "\n",
       "           bid        ask   timestamp          create_date   symbol  \\\n",
       "63      3.9193     4.0693  1713759942  2024-04-22 01:25:42  EUR-SAR   \n",
       "94    655.9570   655.9570  1713759902  2024-04-22 01:25:02  EUR-XAF   \n",
       "225  2726.3600  2730.6300  1713474004  2024-04-18 18:00:04  EUR-SYP   \n",
       "\n",
       "            extracted_at  \n",
       "63   2024-04-22 04:26:36  \n",
       "94   2024-04-22 04:26:36  \n",
       "225  2024-04-22 04:26:36  "
      ]
     },
     "execution_count": 3,
     "metadata": {},
     "output_type": "execute_result"
    }
   ],
   "source": [
    "# Change data types\n",
    "df = allFiles.astype({'ask': float, 'bid': float, 'varBid': float, 'pctChange': float})\n",
    "\n",
    "# Show the dataframe\n",
    "df.head(3)\n"
   ]
  },
  {
   "cell_type": "markdown",
   "metadata": {},
   "source": [
    "## 3. Using SQL for Data Exploration\n",
    "    3.1 What is the currency with the highest ask value?"
   ]
  },
  {
   "cell_type": "code",
   "execution_count": 4,
   "metadata": {},
   "outputs": [
    {
     "data": {
      "text/html": [
       "<div>\n",
       "<style scoped>\n",
       "    .dataframe tbody tr th:only-of-type {\n",
       "        vertical-align: middle;\n",
       "    }\n",
       "\n",
       "    .dataframe tbody tr th {\n",
       "        vertical-align: top;\n",
       "    }\n",
       "\n",
       "    .dataframe thead th {\n",
       "        text-align: right;\n",
       "    }\n",
       "</style>\n",
       "<table border=\"1\" class=\"dataframe\">\n",
       "  <thead>\n",
       "    <tr style=\"text-align: right;\">\n",
       "      <th></th>\n",
       "      <th>symbol</th>\n",
       "      <th>name</th>\n",
       "      <th>max_ask</th>\n",
       "    </tr>\n",
       "  </thead>\n",
       "  <tbody>\n",
       "    <tr>\n",
       "      <th>0</th>\n",
       "      <td>BRL-LBP</td>\n",
       "      <td>Real Brasileiro/Libra Libanesa</td>\n",
       "      <td>17206.94</td>\n",
       "    </tr>\n",
       "  </tbody>\n",
       "</table>\n",
       "</div>"
      ],
      "text/plain": [
       "    symbol                            name   max_ask\n",
       "0  BRL-LBP  Real Brasileiro/Libra Libanesa  17206.94"
      ]
     },
     "execution_count": 4,
     "metadata": {},
     "output_type": "execute_result"
    }
   ],
   "source": [
    "from pandasql import sqldf\n",
    "\n",
    "query = \"\"\"\n",
    "    SELECT symbol, name, max(ask) max_ask FROM df \n",
    "    where code = 'BRL' \n",
    "    group by symbol, name\n",
    "    order by 3 desc limit 1\n",
    "\"\"\"\n",
    "\n",
    "newDf = sqldf(query, locals())\n",
    "\n",
    "newDf\n",
    "\n"
   ]
  },
  {
   "cell_type": "code",
   "execution_count": null,
   "metadata": {},
   "outputs": [],
   "source": []
  }
 ],
 "metadata": {
  "kernelspec": {
   "display_name": "awesome-data-ingestion-bT26QLZB-py3.9",
   "language": "python",
   "name": "python3"
  },
  "language_info": {
   "codemirror_mode": {
    "name": "ipython",
    "version": 3
   },
   "file_extension": ".py",
   "mimetype": "text/x-python",
   "name": "python",
   "nbconvert_exporter": "python",
   "pygments_lexer": "ipython3",
   "version": "3.9.6"
  }
 },
 "nbformat": 4,
 "nbformat_minor": 2
}
